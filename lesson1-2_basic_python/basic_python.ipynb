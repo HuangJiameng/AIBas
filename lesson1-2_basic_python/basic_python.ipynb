{
 "cells": [
  {
   "cell_type": "markdown",
   "metadata": {},
   "source": [
    "# VSCode 安装\n",
    "\n",
    "https://code.visualstudio.com/download\n",
    "\n",
    "# Python 安装\n",
    "\n",
    "用VSCode装就可以了"
   ]
  },
  {
   "cell_type": "markdown",
   "metadata": {},
   "source": [
    "# 环境搭建"
   ]
  },
  {
   "cell_type": "markdown",
   "metadata": {},
   "source": [
    "https://www.runoob.com/python/python-tutorial.html"
   ]
  },
  {
   "cell_type": "markdown",
   "metadata": {},
   "source": [
    "# 基本语法"
   ]
  },
  {
   "cell_type": "markdown",
   "metadata": {},
   "source": [
    "## 缩进 \n"
   ]
  },
  {
   "cell_type": "code",
   "execution_count": 20,
   "metadata": {},
   "outputs": [
    {
     "ename": "IndentationError",
     "evalue": "unindent does not match any outer indentation level (<tokenize>, line 6)",
     "output_type": "error",
     "traceback": [
      "\u001b[1;36m  File \u001b[1;32m<tokenize>:6\u001b[1;36m\u001b[0m\n\u001b[1;33m    print (\"False\")    # 缩进不一致，会导致运行错误\u001b[0m\n\u001b[1;37m    ^\u001b[0m\n\u001b[1;31mIndentationError\u001b[0m\u001b[1;31m:\u001b[0m unindent does not match any outer indentation level\n"
     ]
    }
   ],
   "source": [
    "if True:\n",
    "    print (\"Answer\")\n",
    "    print (\"True\")\n",
    "else:\n",
    "    print (\"Answer\")\n",
    "  print (\"False\")    # 缩进不一致，会导致运行错误\n",
    "# \n"
   ]
  },
  {
   "cell_type": "markdown",
   "metadata": {},
   "source": [
    "## 关键字(保留字)\n",
    "\n",
    "需要在Python中使用保留字时，需要在变量名或函数名的开头加上一个下划线。这样可以避免与Python的关键字冲突。"
   ]
  },
  {
   "cell_type": "code",
   "execution_count": 3,
   "metadata": {},
   "outputs": [
    {
     "name": "stdout",
     "output_type": "stream",
     "text": [
      "Python的关键字有：\n",
      "['False', 'None', 'True', 'and', 'as', 'assert', 'async', 'await', 'break', 'class', 'continue', 'def', 'del', 'elif', 'else', 'except', 'finally', 'for', 'from', 'global', 'if', 'import', 'in', 'is', 'lambda', 'nonlocal', 'not', 'or', 'pass', 'raise', 'return', 'try', 'while', 'with', 'yield']\n"
     ]
    }
   ],
   "source": [
    "import keyword\n",
    "print(\"Python的关键字有：\")\n",
    "print(keyword.kwlist)"
   ]
  },
  {
   "cell_type": "markdown",
   "metadata": {},
   "source": [
    "# 基本数据类型\n",
    "\n",
    "1. 整数 int\n",
    "2. 浮点数 float\n",
    "3. 布尔值 bool\n",
    "4. 字符串 str\n",
    "5. 列表 list\n",
    "6. 元组 tuple\n",
    "7. 字典 dict"
   ]
  },
  {
   "cell_type": "code",
   "execution_count": 4,
   "metadata": {},
   "outputs": [
    {
     "name": "stdout",
     "output_type": "stream",
     "text": [
      "Python的基本数据类型示例\n",
      "整数（int）\n",
      "<class 'int'>\n",
      "浮点数（float）\n",
      "<class 'float'>\n",
      " 布尔值（bool）\n",
      "<class 'bool'>\n",
      "字符串（str）\n",
      "<class 'str'>\n"
     ]
    }
   ],
   "source": [
    "print(\"Python的基本数据类型示例\")\n",
    "\n",
    "print(\"整数（int）\")\n",
    "x = 10\n",
    "print(type(x))  # 输出: <class 'int'>\n",
    "\n",
    "print(\"浮点数（float）\")\n",
    "y = 3.14\n",
    "print(type(y))  # 输出: <class 'float'>\n",
    "\n",
    "print(\" 布尔值（bool）\")\n",
    "is_valid = True\n",
    "print(type(is_valid))  # 输出: <class 'bool'>\n",
    "\n",
    "print(\"字符串（str）\")\n",
    "name = \"Alice\"\n",
    "print(type(name))  # 输出: <class 'str'>\n"
   ]
  },
  {
   "cell_type": "markdown",
   "metadata": {},
   "source": [
    "# 列表list，字典dict，元组tuple"
   ]
  },
  {
   "cell_type": "code",
   "execution_count": 5,
   "metadata": {},
   "outputs": [
    {
     "name": "stdout",
     "output_type": "stream",
     "text": [
      "Hello, Alice!\n",
      "I like apple\n",
      "I like banana\n",
      "I like orange\n",
      "Alice\n",
      "red\n"
     ]
    }
   ],
   "source": [
    "\n",
    "# 定义一个列表\n",
    "fruits = ['apple', 'banana', 'orange']\n",
    "\n",
    "# 使用for循环遍历列表\n",
    "for fruit in fruits:\n",
    "    print(\"I like \" + fruit)\n",
    "\n",
    "# 定义一个字典\n",
    "person = {'name': 'Alice', 'age': 30, 'city': 'New York'}\n",
    "\n",
    "# 访问字典的值\n",
    "print(person['name'])  # 输出: Alice\n",
    "\n",
    "# 定义一个元组\n",
    "colors = ('red', 'green', 'blue')\n",
    "\n",
    "# 访问元组的值\n",
    "print(colors[0])  # 输出: red\n"
   ]
  },
  {
   "cell_type": "markdown",
   "metadata": {},
   "source": [
    "# 循环，条件语句，函数"
   ]
  },
  {
   "cell_type": "code",
   "execution_count": 1,
   "metadata": {},
   "outputs": [
    {
     "name": "stdout",
     "output_type": "stream",
     "text": [
      "for循环示例\n",
      "例1: 使用range函数生成数字序列进行遍历\n",
      "0\n",
      "1\n",
      "2\n",
      "3\n",
      "4\n",
      "例2: 指定起始值和结束值来生成数字序列\n",
      "2\n",
      "3\n",
      "4\n",
      "5\n",
      "6\n",
      "7\n",
      "例3: 指定步长来生成数字序列\n",
      "0\n",
      "2\n",
      "4\n",
      "6\n",
      "8\n",
      "while循环示例\n",
      "0\n",
      "1\n",
      "2\n",
      "3\n",
      "4\n",
      "嵌套循环示例\n",
      "0 0\n",
      "0 1\n",
      "1 0\n",
      "1 1\n",
      "2 0\n",
      "2 1\n",
      "条件语句\n",
      "You are an adult\n",
      "异常处理示例\n",
      "Error: Division by zero\n"
     ]
    }
   ],
   "source": [
    "print(\"for循环示例\")\n",
    "\n",
    "print(\"例1: 使用range函数生成数字序列进行遍历\")\n",
    "for i in range(5):\n",
    "    print(i)\n",
    "# 输出: 0 1 2 3 4\n",
    "\n",
    "print(\"例2: 指定起始值和结束值来生成数字序列\")\n",
    "for j in range(2, 8):\n",
    "    print(j)\n",
    "# 输出: 2 3 4 5 6 7\n",
    "\n",
    "print(\"例3: 指定步长来生成数字序列\")\n",
    "for k in range(0, 10, 2):\n",
    "    print(k)\n",
    "# 输出: 0 2 4 6 8"
   ]
  },
  {
   "cell_type": "code",
   "execution_count": null,
   "metadata": {},
   "outputs": [],
   "source": [
    "print(\"while循环示例\")\n",
    "count = 0\n",
    "while count < 5:\n",
    "    print(count)\n",
    "    count += 1\n",
    "# 输出: 0 1 2 3 4\n",
    "\n",
    "print(\"嵌套循环示例\")\n",
    "for m in range(3):\n",
    "    for n in range(2):\n",
    "        print(m, n)\n",
    "# 输出:\n",
    "# 0 0\n",
    "# 0 1\n",
    "# 1 0\n",
    "# 1 1\n",
    "# 2 0\n",
    "# 2 1"
   ]
  },
  {
   "cell_type": "code",
   "execution_count": null,
   "metadata": {},
   "outputs": [],
   "source": [
    "print(\"条件语句\")\n",
    "age = 25\n",
    "if age >= 18:\n",
    "    print(\"You are an adult\")\n",
    "else:\n",
    "    print(\"You are a minor\")"
   ]
  },
  {
   "cell_type": "code",
   "execution_count": null,
   "metadata": {},
   "outputs": [],
   "source": [
    "# 定义一个函数\n",
    "def greet(name):\n",
    "    \"\"\"\n",
    "    这是一个打招呼的函数\n",
    "    \"\"\"\n",
    "    print(\"Hello, \" + name + \"!\")\n",
    "\n",
    "# 调用函数\n",
    "greet(\"Alice\")"
   ]
  },
  {
   "cell_type": "markdown",
   "metadata": {},
   "source": [
    "## 输入"
   ]
  },
  {
   "cell_type": "code",
   "execution_count": 6,
   "metadata": {},
   "outputs": [
    {
     "name": "stdout",
     "output_type": "stream",
     "text": [
      "你好, Hongjun!\n",
      "你明年将会是 14 岁\n",
      "这是一个奇数\n"
     ]
    }
   ],
   "source": [
    "# Python的输入样例\n",
    "\n",
    "# 通过input函数获取用户输入\n",
    "name = input(\"请输入你的名字: \")\n",
    "print(\"你好, \" + name + \"!\")\n",
    "\n",
    "# 将输入的内容转换为整数\n",
    "age = input(\"请输入你的年龄: \")\n",
    "age = int(age)\n",
    "print(\"你明年将会是 \" + str(age + 1) + \" 岁\")\n",
    "\n",
    "# 对输入进行简单的判断\n",
    "num = input(\"请输入一个数字: \")\n",
    "num = int(num)\n",
    "if num % 2 == 0:\n",
    "    print(\"这是一个偶数\")\n",
    "else:\n",
    "    print(\"这是一个奇数\")\n"
   ]
  },
  {
   "cell_type": "markdown",
   "metadata": {},
   "source": [
    "## 输出"
   ]
  },
  {
   "cell_type": "code",
   "execution_count": 26,
   "metadata": {},
   "outputs": [
    {
     "name": "stdout",
     "output_type": "stream",
     "text": [
      "你好呀\n"
     ]
    }
   ],
   "source": [
    "print(\"你好呀\")"
   ]
  },
  {
   "cell_type": "code",
   "execution_count": 27,
   "metadata": {},
   "outputs": [
    {
     "name": "stdout",
     "output_type": "stream",
     "text": [
      "helloworld\n"
     ]
    }
   ],
   "source": [
    "# 测试两个字符串的衔接\n",
    "a = \"hello\"\n",
    "b = \"world\"\n",
    "c = a + b\n",
    "print(c)"
   ]
  },
  {
   "cell_type": "code",
   "execution_count": 2,
   "metadata": {},
   "outputs": [
    {
     "name": "stdout",
     "output_type": "stream",
     "text": [
      "Hello World\n"
     ]
    }
   ],
   "source": [
    "print(\"Hello\" + \" \" + \"World\")"
   ]
  },
  {
   "cell_type": "code",
   "execution_count": 25,
   "metadata": {},
   "outputs": [
    {
     "name": "stdout",
     "output_type": "stream",
     "text": [
      "Hello   World\n",
      "\n",
      "Hello World\n"
     ]
    }
   ],
   "source": [
    "print(\"Hello\", \" \", \"World\", end = \"\\n\\n\")\n",
    "print(\"Hello\", \"World\")"
   ]
  },
  {
   "cell_type": "code",
   "execution_count": 6,
   "metadata": {},
   "outputs": [
    {
     "name": "stdout",
     "output_type": "stream",
     "text": [
      "Hello World\n",
      "Hello World\n"
     ]
    }
   ],
   "source": [
    "world_str = \"World\"\n",
    "print(\"Hello \" + world_str)\n",
    "print(\"Hello\", world_str)"
   ]
  },
  {
   "cell_type": "markdown",
   "metadata": {},
   "source": [
    "如果我们想输出的不只是字符串呢？"
   ]
  },
  {
   "cell_type": "code",
   "execution_count": 28,
   "metadata": {},
   "outputs": [
    {
     "name": "stdout",
     "output_type": "stream",
     "text": [
      "Hello 756\n"
     ]
    }
   ],
   "source": [
    "a_number = 756\n",
    "print(\"Hello \" + str(a_number))"
   ]
  },
  {
   "cell_type": "code",
   "execution_count": 29,
   "metadata": {},
   "outputs": [
    {
     "name": "stdout",
     "output_type": "stream",
     "text": [
      "Hello 756\n"
     ]
    }
   ],
   "source": [
    "a_number = 756\n",
    "print(\"Hello\", a_number)"
   ]
  },
  {
   "cell_type": "code",
   "execution_count": 30,
   "metadata": {},
   "outputs": [
    {
     "ename": "TypeError",
     "evalue": "can only concatenate str (not \"int\") to str",
     "output_type": "error",
     "traceback": [
      "\u001b[1;31m---------------------------------------------------------------------------\u001b[0m",
      "\u001b[1;31mTypeError\u001b[0m                                 Traceback (most recent call last)",
      "Cell \u001b[1;32mIn[30], line 1\u001b[0m\n\u001b[1;32m----> 1\u001b[0m \u001b[38;5;28mprint\u001b[39m(\u001b[38;5;124;43m\"\u001b[39;49m\u001b[38;5;124;43mHello\u001b[39;49m\u001b[38;5;124;43m\"\u001b[39;49m\u001b[43m \u001b[49m\u001b[38;5;241;43m+\u001b[39;49m\u001b[43m \u001b[49m\u001b[43ma_number\u001b[49m)\n",
      "\u001b[1;31mTypeError\u001b[0m: can only concatenate str (not \"int\") to str"
     ]
    }
   ],
   "source": [
    "print(\"Hello\" + a_number) # 这个会报错"
   ]
  },
  {
   "cell_type": "code",
   "execution_count": 9,
   "metadata": {},
   "outputs": [
    {
     "name": "stdout",
     "output_type": "stream",
     "text": [
      "Hello 756\n"
     ]
    }
   ],
   "source": [
    "a_number = 756\n",
    "print(\"Hello %d\" % a_number)"
   ]
  },
  {
   "cell_type": "code",
   "execution_count": 10,
   "metadata": {},
   "outputs": [
    {
     "name": "stdout",
     "output_type": "stream",
     "text": [
      "Hello 756\n",
      "Hello 756\n"
     ]
    }
   ],
   "source": [
    "a_number = 756\n",
    "print(\"Hello {}\".format(a_number))\n",
    "print(f\"Hello {a_number}\")"
   ]
  },
  {
   "cell_type": "code",
   "execution_count": 31,
   "metadata": {},
   "outputs": [
    {
     "name": "stdout",
     "output_type": "stream",
     "text": [
      "a = 1, b = 2.0, c = [9, 8, 7]\n"
     ]
    }
   ],
   "source": [
    "a = 1\n",
    "b = 2.0\n",
    "c = [9, 8, 7]\n",
    "a_str = f\"a = {a}, b = {b}, c = {c}\"\n",
    "print(a_str)"
   ]
  },
  {
   "cell_type": "markdown",
   "metadata": {},
   "source": [
    "## import\n",
    "\n",
    "通过 import，我们可以方便地使用其他模块中的功能，并且可以根据需要选择性地导入模块中的特定部分。"
   ]
  },
  {
   "cell_type": "code",
   "execution_count": 9,
   "metadata": {},
   "outputs": [
    {
     "name": "stdout",
     "output_type": "stream",
     "text": [
      "[]\n"
     ]
    }
   ],
   "source": [
    "import glob\n",
    "\n",
    "print(glob.glob(\"somepath/that/youlike/*.txt\"))"
   ]
  },
  {
   "cell_type": "code",
   "execution_count": 8,
   "metadata": {},
   "outputs": [
    {
     "name": "stdout",
     "output_type": "stream",
     "text": [
      "例如，我们可以导入 math 模块，并使用其中的函数：\n",
      "4.0\n",
      "[1 2 3]\n",
      "51\n"
     ]
    }
   ],
   "source": [
    "print(\"例如，我们可以导入 math 模块，并使用其中的函数：\")\n",
    "# 导入整个模块\n",
    "import math\n",
    "# 现在我们可以使用 math 模块中的所有功能\n",
    "print(math.sqrt(16))  # 输出: 4.0\n",
    "\n",
    "# 可以使用 as 关键字给导入的模块指定一个别名\n",
    "import numpy as np\n",
    "# 现在可以使用 np 代替 numpy\n",
    "data = np.array([1, 2, 3])\n",
    "print(data)  # 输出: [1 2 3]\n",
    "\n",
    "# 也可以从模块中导入特定的函数或变量\n",
    "from random import randint\n",
    "# 现在可以直接使用 randint 而不需要在调用时指定模块名\n",
    "num = randint(1, 100)\n",
    "print(num)  # 输出: 一个1到100之间的随机数\n"
   ]
  },
  {
   "cell_type": "markdown",
   "metadata": {},
   "source": [
    "更多基本语法可以参考\n",
    "https://www.runoob.com/python/python-basic-syntax.html"
   ]
  },
  {
   "cell_type": "markdown",
   "metadata": {},
   "source": [
    "## 补充：输入参数"
   ]
  },
  {
   "cell_type": "markdown",
   "metadata": {},
   "source": [
    "https://docs.python.org/3/library/argparse.html"
   ]
  },
  {
   "cell_type": "code",
   "execution_count": 3,
   "metadata": {},
   "outputs": [
    {
     "name": "stdout",
     "output_type": "stream",
     "text": [
      "usage: parse_args.py [-h] [-n N] name age\n",
      "\n",
      "Prints an employee card.\n",
      "\n",
      "positional arguments:\n",
      "  name        Employee's name\n",
      "  age         Employee's age\n",
      "\n",
      "optional arguments:\n",
      "  -h, --help  show this help message and exit\n",
      "  -n N        Number of cards to print\n"
     ]
    }
   ],
   "source": [
    "! python parse_args.py -h"
   ]
  },
  {
   "cell_type": "code",
   "execution_count": 5,
   "metadata": {},
   "outputs": [
    {
     "name": "stdout",
     "output_type": "stream",
     "text": [
      "---------------------\n",
      "Employee Name: HannaJ\n",
      "Age: 25\n",
      "---------------------\n",
      "\n"
     ]
    }
   ],
   "source": [
    "! python parse_args.py HannaJ 25"
   ]
  },
  {
   "cell_type": "code",
   "execution_count": 7,
   "metadata": {},
   "outputs": [
    {
     "name": "stdout",
     "output_type": "stream",
     "text": [
      "---------------------\n",
      "Employee Name: John\n",
      "Age: 22\n",
      "---------------------\n",
      "\n",
      "---------------------\n",
      "Employee Name: John\n",
      "Age: 22\n",
      "---------------------\n",
      "\n",
      "---------------------\n",
      "Employee Name: John\n",
      "Age: 22\n",
      "---------------------\n",
      "\n",
      "---------------------\n",
      "Employee Name: John\n",
      "Age: 22\n",
      "---------------------\n",
      "\n",
      "---------------------\n",
      "Employee Name: John\n",
      "Age: 22\n",
      "---------------------\n",
      "\n"
     ]
    }
   ],
   "source": [
    "! python parse_args.py John 22 -n 5"
   ]
  },
  {
   "cell_type": "markdown",
   "metadata": {},
   "source": [
    "Exercise 1-1: 编写一个程序, 接收用户输入的姓名和年龄, 然后输出 \"Hello, {name}! You are {age} years old.\""
   ]
  },
  {
   "cell_type": "code",
   "execution_count": 14,
   "metadata": {},
   "outputs": [
    {
     "ename": "SyntaxError",
     "evalue": "invalid syntax (1237813383.py, line 1)",
     "output_type": "error",
     "traceback": [
      "\u001b[1;36m  Cell \u001b[1;32mIn[14], line 1\u001b[1;36m\u001b[0m\n\u001b[1;33m    练习:编写一个程序, 接收用户输入的姓名和年龄, 然后输出 \"Hello, {name}! You are {age} years old.\"\u001b[0m\n\u001b[1;37m             ^\u001b[0m\n\u001b[1;31mSyntaxError\u001b[0m\u001b[1;31m:\u001b[0m invalid syntax\n"
     ]
    }
   ],
   "source": [
    "# ! python ex1-1.py --name Oscar --age 15"
   ]
  },
  {
   "cell_type": "markdown",
   "metadata": {},
   "source": [
    "# 写注释"
   ]
  },
  {
   "cell_type": "code",
   "execution_count": 9,
   "metadata": {},
   "outputs": [
    {
     "data": {
      "text/plain": [
       "'\\n这是一个多行注释\\n'"
      ]
     },
     "execution_count": 9,
     "metadata": {},
     "output_type": "execute_result"
    }
   ],
   "source": [
    "# 一个单行注释\n",
    "\n",
    "'''\n",
    "这是一个多行注释\n",
    "'''"
   ]
  }
 ],
 "metadata": {
  "kernelspec": {
   "display_name": "Python 3",
   "language": "python",
   "name": "python3"
  },
  "language_info": {
   "codemirror_mode": {
    "name": "ipython",
    "version": 3
   },
   "file_extension": ".py",
   "mimetype": "text/x-python",
   "name": "python",
   "nbconvert_exporter": "python",
   "pygments_lexer": "ipython3",
   "version": "3.8.18"
  }
 },
 "nbformat": 4,
 "nbformat_minor": 2
}
